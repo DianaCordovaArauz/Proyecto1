{
 "cells": [
  {
   "cell_type": "code",
   "execution_count": 5,
   "metadata": {},
   "outputs": [],
   "source": [
    "import pandas as pd\n",
    "import matplotlib.pyplot as plt\n",
    "from sqlalchemy import create_engine"
   ]
  },
  {
   "cell_type": "code",
   "execution_count": 6,
   "metadata": {},
   "outputs": [
    {
     "name": "stderr",
     "output_type": "stream",
     "text": [
      "/var/folders/3l/l6t22czn1d11mnzrp1kdh_340000gn/T/ipykernel_34502/336565824.py:10: DtypeWarning: Columns (41) have mixed types. Specify dtype option on import or set low_memory=False.\n",
      "  df_hogar = pd.read_csv(\n"
     ]
    },
    {
     "name": "stdout",
     "output_type": "stream",
     "text": [
      "<class 'pandas.core.frame.DataFrame'>\n",
      "Index: 2381224 entries, 434069 to 5087417\n",
      "Data columns (total 44 columns):\n",
      " #   Column    Dtype  \n",
      "---  ------    -----  \n",
      " 0   I01       int64  \n",
      " 1   I02       int64  \n",
      " 2   I10       float64\n",
      " 3   INH       int64  \n",
      " 4   H01       float64\n",
      " 5   H02       float64\n",
      " 6   H03       float64\n",
      " 7   H04       float64\n",
      " 8   H05       float64\n",
      " 9   H06       float64\n",
      " 10  H0701     float64\n",
      " 11  H0702     float64\n",
      " 12  H0703     float64\n",
      " 13  H0801     float64\n",
      " 14  H0801N    float64\n",
      " 15  H0802     float64\n",
      " 16  H0802N    float64\n",
      " 17  H09       float64\n",
      " 18  H1001     float64\n",
      " 19  H1002     float64\n",
      " 20  H1003     float64\n",
      " 21  H1004     float64\n",
      " 22  H1005     float64\n",
      " 23  H1006     float64\n",
      " 24  H1007     float64\n",
      " 25  H1008     float64\n",
      " 26  H1009     float64\n",
      " 27  H1010     float64\n",
      " 28  H1011     float64\n",
      " 29  H1012     float64\n",
      " 30  H11       float64\n",
      " 31  H1101     float64\n",
      " 32  H12       float64\n",
      " 33  H1201     float64\n",
      " 34  H1301     int64  \n",
      " 35  H1302     int64  \n",
      " 36  H1303     int64  \n",
      " 37  H15       int64  \n",
      " 38  AUR       int64  \n",
      " 39  CANTON    int64  \n",
      " 40  ID_VIV    float64\n",
      " 41  ID_HOG    object \n",
      " 42  H01R      float64\n",
      " 43  IMP_VOPA  int64  \n",
      "dtypes: float64(33), int64(10), object(1)\n",
      "memory usage: 817.5+ MB\n",
      "None\n",
      "                I01           I02           I10           INH           H01  \\\n",
      "count  2.381224e+06  2.381224e+06  2.381224e+06  2.381224e+06  2.379498e+06   \n",
      "mean   1.465998e+01  3.470972e+00  2.239004e+05  1.022868e+00  2.168053e+00   \n",
      "std    4.378456e+00  4.133194e+00  3.143968e+05  1.774224e-01  1.065583e+00   \n",
      "min    5.000000e+00  1.000000e+00  1.000000e+00  0.000000e+00  0.000000e+00   \n",
      "25%    1.300000e+01  1.000000e+00  1.278400e+04  1.000000e+00  1.000000e+00   \n",
      "50%    1.700000e+01  1.000000e+00  5.472800e+04  1.000000e+00  2.000000e+00   \n",
      "75%    1.700000e+01  5.000000e+00  3.578372e+05  1.000000e+00  3.000000e+00   \n",
      "max    2.300000e+01  2.200000e+01  1.094930e+06  9.000000e+00  2.000000e+01   \n",
      "\n",
      "                H02           H03           H04           H05           H06  \\\n",
      "count  2.379498e+06  2.379498e+06  2.379498e+06  2.379498e+06  2.379498e+06   \n",
      "mean   1.146451e+00  1.086457e+00  1.341965e+00  1.284774e+00  2.045636e+00   \n",
      "std    3.535583e-01  3.542122e-01  7.330879e-01  9.440600e-01  9.945558e-01   \n",
      "min    1.000000e+00  1.000000e+00  1.000000e+00  1.000000e+00  1.000000e+00   \n",
      "25%    1.000000e+00  1.000000e+00  1.000000e+00  1.000000e+00  1.000000e+00   \n",
      "50%    1.000000e+00  1.000000e+00  1.000000e+00  1.000000e+00  2.000000e+00   \n",
      "75%    1.000000e+00  1.000000e+00  1.000000e+00  1.000000e+00  3.000000e+00   \n",
      "max    2.000000e+00  3.000000e+00  3.000000e+00  7.000000e+00  6.000000e+00   \n",
      "\n",
      "       ...         H1201         H1301         H1302         H1303  \\\n",
      "count  ...  40356.000000  2.381224e+06  2.381224e+06  2.381224e+06   \n",
      "mean   ...      1.358708  1.546826e+00  1.636246e+00  3.183073e+00   \n",
      "std    ...      0.795280  3.204871e+00  1.148953e+00  3.676986e+00   \n",
      "min    ...      1.000000  0.000000e+00  0.000000e+00  1.000000e+00   \n",
      "25%    ...      1.000000  1.000000e+00  1.000000e+00  2.000000e+00   \n",
      "50%    ...      1.000000  1.000000e+00  1.000000e+00  3.000000e+00   \n",
      "75%    ...      1.000000  2.000000e+00  2.000000e+00  4.000000e+00   \n",
      "max    ...     14.000000  3.647000e+03  4.970000e+02  4.144000e+03   \n",
      "\n",
      "                H15           AUR        CANTON        ID_VIV          H01R  \\\n",
      "count  2.381224e+06  2.381224e+06  2.381224e+06  2.381224e+06  2.379498e+06   \n",
      "mean   2.342188e+00  1.418785e+00  1.469469e+03  1.469619e+10  2.164592e+00   \n",
      "std    1.509747e+00  4.933602e-01  4.367285e+02  4.512190e+09  1.048220e+00   \n",
      "min    1.000000e+00  1.000000e+00  5.010000e+02  5.010000e+09  0.000000e+00   \n",
      "25%    2.000000e+00  1.000000e+00  1.301000e+03  1.301003e+10  1.000000e+00   \n",
      "50%    2.000000e+00  1.000000e+00  1.701000e+03  1.701017e+10  2.000000e+00   \n",
      "75%    2.000000e+00  2.000000e+00  1.701000e+03  1.701092e+10  3.000000e+00   \n",
      "max    9.000000e+00  2.000000e+00  2.302000e+03  1.701001e+12  6.000000e+00   \n",
      "\n",
      "           IMP_VOPA  \n",
      "count  2.381224e+06  \n",
      "mean   1.951096e+00  \n",
      "std    2.156670e-01  \n",
      "min    1.000000e+00  \n",
      "25%    2.000000e+00  \n",
      "50%    2.000000e+00  \n",
      "75%    2.000000e+00  \n",
      "max    2.000000e+00  \n",
      "\n",
      "[8 rows x 43 columns]\n",
      "(2381224, 44)\n"
     ]
    }
   ],
   "source": [
    "import sqlite3\n",
    "\n",
    "conn = sqlite3.connect('Cantones.db')\n",
    "\n",
    "provincias_cercanas = [\n",
    "    18, 6, 5, 13, 12, 17, 23\n",
    "]\n",
    "\n",
    "#Load the entire dataset\n",
    "df_hogar = pd.read_csv(\n",
    "    '/Users/dicordova/Documents/USFQ Data Science/Fundamentos/Proyecto FDS/data/raw/hogar_cant.csv', sep=';'\n",
    ")\n",
    "\n",
    "# #Filter the dataset to only include the provinces of interest\n",
    "df_hogar = df_hogar[df_hogar['I01'].isin(provincias_cercanas)]\n",
    "\n",
    "#Display basic information\n",
    "print(df_hogar.info())\n",
    "print(df_hogar.describe())\n",
    "print(df_hogar.shape)"
   ]
  },
  {
   "cell_type": "code",
   "execution_count": 7,
   "metadata": {},
   "outputs": [
    {
     "name": "stdout",
     "output_type": "stream",
     "text": [
      "float64    33\n",
      "int64      10\n",
      "object      1\n",
      "Name: count, dtype: int64\n"
     ]
    }
   ],
   "source": [
    "dtype_counts = df_hogar.dtypes.value_counts()\n",
    "print(dtype_counts)"
   ]
  },
  {
   "cell_type": "code",
   "execution_count": 8,
   "metadata": {},
   "outputs": [
    {
     "name": "stdout",
     "output_type": "stream",
     "text": [
      "H1201       2340868\n",
      "H1101       2276356\n",
      "H0802N      1758342\n",
      "H0801N      1096218\n",
      "H1008          1726\n",
      "H1003          1726\n",
      "H1004          1726\n",
      "H1006          1726\n",
      "H1007          1726\n",
      "H1005          1726\n",
      "H1009          1726\n",
      "H1002          1726\n",
      "H1011          1726\n",
      "H1012          1726\n",
      "H11            1726\n",
      "H12            1726\n",
      "H1010          1726\n",
      "H1001          1726\n",
      "H05            1726\n",
      "H01R           1726\n",
      "H0802          1726\n",
      "H0801          1726\n",
      "H0703          1726\n",
      "H0702          1726\n",
      "H0701          1726\n",
      "H06            1726\n",
      "H09            1726\n",
      "H04            1726\n",
      "H03            1726\n",
      "H02            1726\n",
      "H01            1726\n",
      "CANTON            0\n",
      "H15               0\n",
      "ID_HOG            0\n",
      "ID_VIV            0\n",
      "AUR               0\n",
      "I01               0\n",
      "H1303             0\n",
      "H1302             0\n",
      "H1301             0\n",
      "I02               0\n",
      "INH               0\n",
      "I10               0\n",
      "IMP_VOPA          0\n",
      "dtype: int64\n"
     ]
    }
   ],
   "source": [
    "#We count nulls per column\n",
    "missing_values_df_hogar = df_hogar.isnull().sum().sort_values(ascending=False)\n",
    "print(missing_values_df_hogar)"
   ]
  },
  {
   "cell_type": "code",
   "execution_count": 9,
   "metadata": {},
   "outputs": [
    {
     "name": "stdout",
     "output_type": "stream",
     "text": [
      "<class 'pandas.core.frame.DataFrame'>\n",
      "Index: 2381224 entries, 434069 to 5087417\n",
      "Data columns (total 44 columns):\n",
      " #   Column                      Dtype  \n",
      "---  ------                      -----  \n",
      " 0   provincia                   int64  \n",
      " 1   canton_id                   int64  \n",
      " 2   nro_vivienda                float64\n",
      " 3   nro_hogar                   int64  \n",
      " 4   nro_dormitorios             float64\n",
      " 5   espacio_cocina              float64\n",
      " 6   tiene_inodoro               float64\n",
      " 7   tiene_ducha                 float64\n",
      " 8   combustible_cocina          float64\n",
      " 9   fuente_agua_bebida          float64\n",
      " 10  separa_basura_organica      float64\n",
      " 11  separa_basura_animales      float64\n",
      " 12  separa_basura_reciclaje     float64\n",
      " 13  tiene_perros                float64\n",
      " 14  nro_perros                  float64\n",
      " 15  tiene_gatos                 float64\n",
      " 16  nro_gatos                   float64\n",
      " 17  tenencia_vivienda           float64\n",
      " 18  tiene_telefono_fijo         float64\n",
      " 19  tiene_celular               float64\n",
      " 20  tiene_tv_pagada             float64\n",
      " 21  tiene_internet              float64\n",
      " 22  tiene_computadora           float64\n",
      " 23  tiene_refrigeradora         float64\n",
      " 24  tiene_lavadora              float64\n",
      " 25  tiene_secadora              float64\n",
      " 26  tiene_microondas            float64\n",
      " 27  tiene_extractora_olores     float64\n",
      " 28  tiene_auto                  float64\n",
      " 29  tiene_moto                  float64\n",
      " 30  fallecidos_ultimos_3_anios  float64\n",
      " 31  nro_fallecidos              float64\n",
      " 32  emigrantes_desde_2010       float64\n",
      " 33  nro_emigrantes              float64\n",
      " 34  total_hombres               int64  \n",
      " 35  total_mujeres               int64  \n",
      " 36  total_personas              int64  \n",
      " 37  persona_no_mencionada       int64  \n",
      " 38  zona                        int64  \n",
      " 39  canton                      int64  \n",
      " 40  id_vivienda                 float64\n",
      " 41  id_hogar                    object \n",
      " 42  nro_dormitorios_r           float64\n",
      " 43  registro_imputado           int64  \n",
      "dtypes: float64(33), int64(10), object(1)\n",
      "memory usage: 817.5+ MB\n"
     ]
    },
    {
     "data": {
      "text/plain": [
       "nro_emigrantes                2340868\n",
       "nro_fallecidos                2276356\n",
       "nro_gatos                     1758342\n",
       "nro_perros                    1096218\n",
       "tiene_secadora                   1726\n",
       "tiene_tv_pagada                  1726\n",
       "tiene_internet                   1726\n",
       "tiene_refrigeradora              1726\n",
       "tiene_lavadora                   1726\n",
       "tiene_computadora                1726\n",
       "tiene_microondas                 1726\n",
       "tiene_celular                    1726\n",
       "tiene_auto                       1726\n",
       "tiene_moto                       1726\n",
       "fallecidos_ultimos_3_anios       1726\n",
       "emigrantes_desde_2010            1726\n",
       "tiene_extractora_olores          1726\n",
       "tiene_telefono_fijo              1726\n",
       "combustible_cocina               1726\n",
       "nro_dormitorios_r                1726\n",
       "tiene_gatos                      1726\n",
       "tiene_perros                     1726\n",
       "separa_basura_reciclaje          1726\n",
       "separa_basura_animales           1726\n",
       "separa_basura_organica           1726\n",
       "fuente_agua_bebida               1726\n",
       "tenencia_vivienda                1726\n",
       "tiene_ducha                      1726\n",
       "tiene_inodoro                    1726\n",
       "espacio_cocina                   1726\n",
       "nro_dormitorios                  1726\n",
       "canton                              0\n",
       "persona_no_mencionada               0\n",
       "id_hogar                            0\n",
       "id_vivienda                         0\n",
       "zona                                0\n",
       "provincia                           0\n",
       "total_personas                      0\n",
       "total_mujeres                       0\n",
       "total_hombres                       0\n",
       "canton_id                           0\n",
       "nro_hogar                           0\n",
       "nro_vivienda                        0\n",
       "registro_imputado                   0\n",
       "dtype: int64"
      ]
     },
     "execution_count": 9,
     "metadata": {},
     "output_type": "execute_result"
    }
   ],
   "source": [
    "#As with the vivienda dataset, we rename the columns to make them more readable\n",
    "columns_renaming = {\n",
    "    'I01': 'provincia',\n",
    "    'I02': 'canton_id',\n",
    "    'I10': 'nro_vivienda',\n",
    "    'INH': 'nro_hogar',\n",
    "    'H01': 'nro_dormitorios',\n",
    "    'H02': 'espacio_cocina',\n",
    "    'H03': 'tiene_inodoro',\n",
    "    'H04': 'tiene_ducha',\n",
    "    'H05': 'combustible_cocina',\n",
    "    'H06': 'fuente_agua_bebida',\n",
    "    'H0701': 'separa_basura_organica',\n",
    "    'H0702': 'separa_basura_animales',\n",
    "    'H0703': 'separa_basura_reciclaje',\n",
    "    'H0801': 'tiene_perros',\n",
    "    'H0801N': 'nro_perros',\n",
    "    'H0802': 'tiene_gatos',\n",
    "    'H0802N': 'nro_gatos',\n",
    "    'H09': 'tenencia_vivienda',\n",
    "    'H1001': 'tiene_telefono_fijo',\n",
    "    'H1002': 'tiene_celular',\n",
    "    'H1003': 'tiene_tv_pagada',\n",
    "    'H1004': 'tiene_internet',\n",
    "    'H1005': 'tiene_computadora',\n",
    "    'H1006': 'tiene_refrigeradora',\n",
    "    'H1007': 'tiene_lavadora',\n",
    "    'H1008': 'tiene_secadora',\n",
    "    'H1009': 'tiene_microondas',\n",
    "    'H1010': 'tiene_extractora_olores',\n",
    "    'H1011': 'tiene_auto',\n",
    "    'H1012': 'tiene_moto',\n",
    "    'H11': 'fallecidos_ultimos_3_anios',\n",
    "    'H1101': 'nro_fallecidos',\n",
    "    'H12': 'emigrantes_desde_2010',\n",
    "    'H1201': 'nro_emigrantes',\n",
    "    'H1301': 'total_hombres',\n",
    "    'H1302': 'total_mujeres',\n",
    "    'H1303': 'total_personas',\n",
    "    'H15': 'persona_no_mencionada',\n",
    "    'AUR': 'zona',\n",
    "    'CANTON': 'canton',\n",
    "    'ID_VIV': 'id_vivienda',\n",
    "    'ID_HOG': 'id_hogar',\n",
    "    'H01R': 'nro_dormitorios_r',\n",
    "    'IMP_VOPA': 'registro_imputado'\n",
    "}\n",
    "\n",
    "df_hogar_renamed = df_hogar.rename(columns=columns_renaming)\n",
    "df_hogar_renamed.info()\n",
    "df_hogar_renamed.isnull().sum().sort_values(ascending=False)"
   ]
  },
  {
   "cell_type": "code",
   "execution_count": 10,
   "metadata": {},
   "outputs": [
    {
     "data": {
      "text/plain": [
       "0"
      ]
     },
     "execution_count": 10,
     "metadata": {},
     "output_type": "execute_result"
    }
   ],
   "source": [
    "df_hogar_renamed.duplicated().sum()"
   ]
  },
  {
   "cell_type": "markdown",
   "metadata": {},
   "source": [
    "- There are no duplicates in the dataset\n",
    "- The nulls in some columns have consistent numbers, which will need further exploration\n",
    "- There are integer values that will have to be transformed to numeric"
   ]
  },
  {
   "cell_type": "code",
   "execution_count": 11,
   "metadata": {},
   "outputs": [
    {
     "data": {
      "text/html": [
       "<div>\n",
       "<style scoped>\n",
       "    .dataframe tbody tr th:only-of-type {\n",
       "        vertical-align: middle;\n",
       "    }\n",
       "\n",
       "    .dataframe tbody tr th {\n",
       "        vertical-align: top;\n",
       "    }\n",
       "\n",
       "    .dataframe thead th {\n",
       "        text-align: right;\n",
       "    }\n",
       "</style>\n",
       "<table border=\"1\" class=\"dataframe\">\n",
       "  <thead>\n",
       "    <tr style=\"text-align: right;\">\n",
       "      <th></th>\n",
       "      <th>total_personas</th>\n",
       "      <th>total_mujeres</th>\n",
       "      <th>total_hombres</th>\n",
       "    </tr>\n",
       "  </thead>\n",
       "  <tbody>\n",
       "    <tr>\n",
       "      <th>count</th>\n",
       "      <td>2.381224e+06</td>\n",
       "      <td>2.381224e+06</td>\n",
       "      <td>2.381224e+06</td>\n",
       "    </tr>\n",
       "    <tr>\n",
       "      <th>mean</th>\n",
       "      <td>3.183073e+00</td>\n",
       "      <td>1.636246e+00</td>\n",
       "      <td>1.546826e+00</td>\n",
       "    </tr>\n",
       "    <tr>\n",
       "      <th>std</th>\n",
       "      <td>3.676986e+00</td>\n",
       "      <td>1.148953e+00</td>\n",
       "      <td>3.204871e+00</td>\n",
       "    </tr>\n",
       "    <tr>\n",
       "      <th>min</th>\n",
       "      <td>1.000000e+00</td>\n",
       "      <td>0.000000e+00</td>\n",
       "      <td>0.000000e+00</td>\n",
       "    </tr>\n",
       "    <tr>\n",
       "      <th>25%</th>\n",
       "      <td>2.000000e+00</td>\n",
       "      <td>1.000000e+00</td>\n",
       "      <td>1.000000e+00</td>\n",
       "    </tr>\n",
       "    <tr>\n",
       "      <th>50%</th>\n",
       "      <td>3.000000e+00</td>\n",
       "      <td>1.000000e+00</td>\n",
       "      <td>1.000000e+00</td>\n",
       "    </tr>\n",
       "    <tr>\n",
       "      <th>75%</th>\n",
       "      <td>4.000000e+00</td>\n",
       "      <td>2.000000e+00</td>\n",
       "      <td>2.000000e+00</td>\n",
       "    </tr>\n",
       "    <tr>\n",
       "      <th>max</th>\n",
       "      <td>4.144000e+03</td>\n",
       "      <td>4.970000e+02</td>\n",
       "      <td>3.647000e+03</td>\n",
       "    </tr>\n",
       "  </tbody>\n",
       "</table>\n",
       "</div>"
      ],
      "text/plain": [
       "       total_personas  total_mujeres  total_hombres\n",
       "count    2.381224e+06   2.381224e+06   2.381224e+06\n",
       "mean     3.183073e+00   1.636246e+00   1.546826e+00\n",
       "std      3.676986e+00   1.148953e+00   3.204871e+00\n",
       "min      1.000000e+00   0.000000e+00   0.000000e+00\n",
       "25%      2.000000e+00   1.000000e+00   1.000000e+00\n",
       "50%      3.000000e+00   1.000000e+00   1.000000e+00\n",
       "75%      4.000000e+00   2.000000e+00   2.000000e+00\n",
       "max      4.144000e+03   4.970000e+02   3.647000e+03"
      ]
     },
     "execution_count": 11,
     "metadata": {},
     "output_type": "execute_result"
    }
   ],
   "source": [
    "df_hogar_renamed[['total_personas', 'total_mujeres', 'total_hombres']].describe()"
   ]
  },
  {
   "cell_type": "markdown",
   "metadata": {},
   "source": [
    "CONCLUSIONES: \n",
    "- El promedio de personas por hogar es un poco más que 3 personas\n",
    "- La distribución por género parece balanceada, con una pequeña inclinación a que hay más mujeres. \n",
    "- La desviación standard nos dice que el número de personas por hogar varía altamente. El número de mujeres en el hogar es más consistente que el de los hombres, puede que por migración interna o externa o simplemente desplazamiento por trabajo. \n",
    "- Parece haber outliers bastante altos, este será el siguiente paso para identificarlos. \n"
   ]
  },
  {
   "cell_type": "code",
   "execution_count": 12,
   "metadata": {},
   "outputs": [
    {
     "data": {
      "image/png": "[encoded data removed]",
      "text/plain": [
       "<Figure size 640x480 with 1 Axes>"
      ]
     },
     "metadata": {},
     "output_type": "display_data"
    },
    {
     "data": {
      "image/png": "[encoded data removed]",
      "text/plain": [
       "<Figure size 640x480 with 1 Axes>"
      ]
     },
     "metadata": {},
     "output_type": "display_data"
    },
    {
     "data": {
      "image/png": "[encoded data removed]",
      "text/plain": [
       "<Figure size 640x480 with 1 Axes>"
      ]
     },
     "metadata": {},
     "output_type": "display_data"
    }
   ],
   "source": [
    "#Now we want to analyse the outliers in the household distribution \n",
    "df_hogar_renamed['total_personas'].plot(kind='box')\n",
    "plt.show()\n",
    "\n",
    "df_hogar_renamed['total_mujeres'].plot(kind='box')\n",
    "plt.show()\n",
    "\n",
    "df_hogar_renamed['total_hombres'].plot(kind='box')\n",
    "plt.show()"
   ]
  },
  {
   "cell_type": "markdown",
   "metadata": {},
   "source": [
    "Los outliers son muy altos, quizá esto indique que las viviendas son colectivas o de otro tipo no personal. \n",
    "\n",
    "Debido a que esta es la información de todas las provincias, agregadas, vamos a analizar lso mismos datos pero por provincia."
   ]
  },
  {
   "cell_type": "code",
   "execution_count": 13,
   "metadata": {},
   "outputs": [
    {
     "data": {
      "image/png": "[encoded data removed]",
      "text/plain": [
       "<Figure size 640x480 with 1 Axes>"
      ]
     },
     "metadata": {},
     "output_type": "display_data"
    }
   ],
   "source": [
    "#We will analyze the distribution of total personas, mujeres y hombres por provincia. \n",
    "personas_por_provincia = df_hogar_renamed.groupby('provincia', as_index=False)[['total_personas', 'total_mujeres', 'total_hombres']].sum()\n",
    "personas_por_provincia.plot(kind='bar', x='provincia', y=['total_personas', 'total_mujeres', 'total_hombres'])\n",
    "plt.show()"
   ]
  },
  {
   "cell_type": "markdown",
   "metadata": {},
   "source": [
    "Vemos que la provincia más poblada es la de Pichincha, seguida por la de Manabí. "
   ]
  },
  {
   "cell_type": "code",
   "execution_count": null,
   "metadata": {},
   "outputs": [],
   "source": []
  }
 ],
 "metadata": {
  "kernelspec": {
   "display_name": "base",
   "language": "python",
   "name": "python3"
  },
  "language_info": {
   "codemirror_mode": {
    "name": "ipython",
    "version": 3
   },
   "file_extension": ".py",
   "mimetype": "text/x-python",
   "name": "python",
   "nbconvert_exporter": "python",
   "pygments_lexer": "ipython3",
   "version": "3.9.21"
  }
 },
 "nbformat": 4,
 "nbformat_minor": 2
}
