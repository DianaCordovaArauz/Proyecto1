{
 "cells": [
  {
   "cell_type": "code",
   "execution_count": 1,
   "metadata": {},
   "outputs": [
    {
     "name": "stdout",
     "output_type": "stream",
     "text": [
      "Intel MKL WARNING: Support of Intel(R) Streaming SIMD Extensions 4.2 (Intel(R) SSE4.2) enabled only processors has been deprecated. Intel oneAPI Math Kernel Library 2025.0 will require Intel(R) Advanced Vector Extensions (Intel(R) AVX) instructions.\n",
      "Intel MKL WARNING: Support of Intel(R) Streaming SIMD Extensions 4.2 (Intel(R) SSE4.2) enabled only processors has been deprecated. Intel oneAPI Math Kernel Library 2025.0 will require Intel(R) Advanced Vector Extensions (Intel(R) AVX) instructions.\n",
      "   provincia\n",
      "0          5\n",
      "1          6\n",
      "2         12\n",
      "3         13\n",
      "4         17\n",
      "5         18\n",
      "6         23\n"
     ]
    }
   ],
   "source": [
    "import sqlite3\n",
    "import pandas as pd\n",
    "import os\n",
    "\n",
    "\n",
    "conn = sqlite3.connect('/Users/dicordova/Documents/USFQ Data Science/Fundamentos/Proyecto FDS/notebooks/mydatabase.db')\n",
    "query = \"SELECT DISTINCT provincia FROM df_encoded\"\n",
    "provincia = pd.read_sql_query(query, conn)\n",
    "print(provincia)\n",
    "conn.close()\n"
   ]
  },
  {
   "cell_type": "code",
   "execution_count": 2,
   "metadata": {},
   "outputs": [
    {
     "name": "stdout",
     "output_type": "stream",
     "text": [
      "   provincia  canton_id  nro_vivienda  nro_hogar  espacio_cocina  \\\n",
      "0          5          2        4852.0        1.0             1.0   \n",
      "1          5          2       20488.0        1.0             2.0   \n",
      "2          5          4       27766.0        1.0             1.0   \n",
      "3          5          2        2270.0        NaN             NaN   \n",
      "4          5          4        6028.0        1.0             1.0   \n",
      "\n",
      "   tiene_inodoro  tiene_ducha  combustible_cocina  fuente_agua_bebida  \\\n",
      "0            1.0          1.0                 3.0                 2.0   \n",
      "1            3.0          3.0                 1.0                 1.0   \n",
      "2            1.0          1.0                 1.0                 1.0   \n",
      "3            NaN          NaN                 NaN                 NaN   \n",
      "4            1.0          1.0                 4.0                 6.0   \n",
      "\n",
      "   separa_basura_reciclaje  ...  ocup_viv_part_r_label_Ocupada  \\\n",
      "0                      2.0  ...                              1   \n",
      "1                      2.0  ...                              1   \n",
      "2                      1.0  ...                              1   \n",
      "3                      NaN  ...                              0   \n",
      "4                      2.0  ...                              1   \n",
      "\n",
      "   nro_cuartos_r_label_Cinco cuartos  nro_cuartos_r_label_Cuatro cuartos  \\\n",
      "0                                  0                                   0   \n",
      "1                                  0                                   0   \n",
      "2                                  0                                   0   \n",
      "3                                  0                                   0   \n",
      "4                                  0                                   1   \n",
      "\n",
      "   nro_cuartos_r_label_Dos cuartos  nro_cuartos_r_label_Seis o más cuartos  \\\n",
      "0                                1                                       0   \n",
      "1                                0                                       0   \n",
      "2                                0                                       0   \n",
      "3                                0                                       0   \n",
      "4                                0                                       0   \n",
      "\n",
      "   nro_cuartos_r_label_Tres cuartos  nro_cuartos_r_label_Un cuarto  \\\n",
      "0                                 0                              0   \n",
      "1                                 0                              1   \n",
      "2                                 0                              1   \n",
      "3                                 0                              0   \n",
      "4                                 0                              0   \n",
      "\n",
      "   deficit_habitacional_label_Dignas o aceptables  \\\n",
      "0                                               1   \n",
      "1                                               0   \n",
      "2                                               1   \n",
      "3                                               0   \n",
      "4                                               1   \n",
      "\n",
      "   deficit_habitacional_label_Déficit cualitativo (Recuperables)  \\\n",
      "0                                                  0               \n",
      "1                                                  0               \n",
      "2                                                  0               \n",
      "3                                                  0               \n",
      "4                                                  0               \n",
      "\n",
      "   deficit_habitacional_label_Déficit cuantitativo (Irrecuperables)  \n",
      "0                                                  0                 \n",
      "1                                                  1                 \n",
      "2                                                  0                 \n",
      "3                                                  0                 \n",
      "4                                                  0                 \n",
      "\n",
      "[5 rows x 230 columns]\n"
     ]
    }
   ],
   "source": [
    "import sqlite3\n",
    "import pandas as pd\n",
    "\n",
    "# Connect to your database\n",
    "conn = sqlite3.connect('/Users/dicordova/Documents/USFQ Data Science/Fundamentos/Proyecto FDS/notebooks/mydatabase.db')\n",
    "\n",
    "# Define the SQL query to load only one province (replace 'Pichincha' with the province you want)\n",
    "query = \"\"\"\n",
    "SELECT * FROM df_encoded\n",
    "WHERE provincia = '5'\n",
    "ORDER BY RANDOM()\n",
    "LIMIT 1000\n",
    "\"\"\"\n",
    "\n",
    "# Load the filtered data into a DataFrame\n",
    "cotopaxi_df = pd.read_sql_query(query, conn)\n",
    "\n",
    "# Preview the result\n",
    "print(cotopaxi_df.head())\n",
    "\n",
    "conn.close()\n"
   ]
  },
  {
   "cell_type": "code",
   "execution_count": 3,
   "metadata": {},
   "outputs": [
    {
     "name": "stdout",
     "output_type": "stream",
     "text": [
      "                                                column    dtype\n",
      "0                                            provincia    int64\n",
      "146        tipo_vivienda_label_Otra vivienda colectiva    int64\n",
      "147       tipo_vivienda_label_Otra vivienda particular    int64\n",
      "148                         tipo_vivienda_label_Rancho    int64\n",
      "149  tipo_vivienda_label_Residencia de adultos mayo...    int64\n",
      "..                                                 ...      ...\n",
      "29                                       total_mujeres  float64\n",
      "27                                      nro_emigrantes  float64\n",
      "41                                           mat_techo  float64\n",
      "40                                     ocup_viv_colect   object\n",
      "34                                            id_hogar   object\n",
      "\n",
      "[230 rows x 2 columns]\n"
     ]
    }
   ],
   "source": [
    "# Show all columns in output\n",
    "pd.set_option('display.max_columns', None)\n",
    "pd.set_option('display.expand_frame_repr', True)\n",
    "\n",
    "cols_info = pd.DataFrame({\n",
    "    'column': cotopaxi_df.columns,\n",
    "    'dtype': cotopaxi_df.dtypes.values\n",
    "})\n",
    "print(cols_info.sort_values(by='dtype'))\n"
   ]
  },
  {
   "cell_type": "code",
   "execution_count": 4,
   "metadata": {},
   "outputs": [],
   "source": [
    "with open('columns.txt', 'w') as f:\n",
    "    for col in cotopaxi_df.columns:\n",
    "        f.write(col + '\\n')\n"
   ]
  },
  {
   "cell_type": "markdown",
   "metadata": {},
   "source": [
    "Creamos un file de las columnas porque son muchas y el output sale truncado cada vez que intentamos explorarla para familiarizarnos con los nombres. "
   ]
  },
  {
   "cell_type": "code",
   "execution_count": 5,
   "metadata": {},
   "outputs": [
    {
     "name": "stdout",
     "output_type": "stream",
     "text": [
      "                                           Column Name Data Type  \\\n",
      "0                                            provincia     int64   \n",
      "1                                            canton_id     int64   \n",
      "2                                         nro_vivienda   float64   \n",
      "3                                            nro_hogar   float64   \n",
      "4                                       espacio_cocina   float64   \n",
      "..                                                 ...       ...   \n",
      "225                   nro_cuartos_r_label_Tres cuartos     int64   \n",
      "226                      nro_cuartos_r_label_Un cuarto     int64   \n",
      "227     deficit_habitacional_label_Dignas o aceptables     int64   \n",
      "228  deficit_habitacional_label_Déficit cualitativo...     int64   \n",
      "229  deficit_habitacional_label_Déficit cuantitativ...     int64   \n",
      "\n",
      "     Missing Values  \n",
      "0                 0  \n",
      "1                 0  \n",
      "2                 0  \n",
      "3               197  \n",
      "4               198  \n",
      "..              ...  \n",
      "225               0  \n",
      "226               0  \n",
      "227               0  \n",
      "228               0  \n",
      "229               0  \n",
      "\n",
      "[230 rows x 3 columns]\n"
     ]
    }
   ],
   "source": [
    "\n",
    "# Create the summary DataFrame\n",
    "col_info = pd.DataFrame({\n",
    "    'Column Name': cotopaxi_df.columns,\n",
    "    'Data Type': cotopaxi_df.dtypes.values,\n",
    "    'Missing Values': cotopaxi_df.isna().sum().values\n",
    "})\n",
    "\n",
    "# Save it to a text file (tab-separated for readability)\n",
    "col_info.to_csv('columns_info.txt', sep='\\t', index=False)\n",
    "\n",
    "# Optional: Preview in notebook\n",
    "print(col_info)\n"
   ]
  },
  {
   "cell_type": "code",
   "execution_count": 5,
   "metadata": {},
   "outputs": [],
   "source": [
    "cols_a_remover = [col for col in cotopaxi_df.columns if (\n",
    "    col.startswith('nro_cuartos_r_label_') or\n",
    "    col.startswith('nro_emigrantes_label') or\n",
    "    col.startswith('nro_hogar_label') or\n",
    "    col.startswith('separa_basura') or\n",
    "    col.startswith('fallecidos_ultimos_3_anios_label')\n",
    ")]\n",
    "\n",
    "cotopaxi_df = cotopaxi_df.drop(columns=cols_a_remover)\n"
   ]
  },
  {
   "cell_type": "markdown",
   "metadata": {},
   "source": [
    "Después de sacar ciertas columnas, vamos a imputar los valores faltantes de las variables numéricas útiles para nuestro índice con KNN imputer. "
   ]
  },
  {
   "cell_type": "code",
   "execution_count": 7,
   "metadata": {},
   "outputs": [],
   "source": [
    "from sklearn.impute import KNNImputer\n",
    "\n",
    "def imputar_knn_variables(cotopaxi_df, variables, n_neighbors=5):\n",
    "    \"\"\"\n",
    "    Imputes missing values in the specified numerical columns using KNN.\n",
    "\n",
    "    Parameters:\n",
    "    - cotopaxi_df: pandas DataFrame\n",
    "    - variables: list of column names to impute\n",
    "    - n_neighbors: number of neighbors for KNNImputer (default: 5)\n",
    "\n",
    "    Returns:\n",
    "    - A DataFrame with the selected variables imputed.\n",
    "    \"\"\"\n",
    "    cotopaxi_df = cotopaxi_df.copy()\n",
    "    \n",
    "    # Ensure all columns exist\n",
    "    missing_cols = [col for col in variables if col not in cotopaxi_df.columns]\n",
    "    if missing_cols:\n",
    "        raise ValueError(f\"The following columns are not in the DataFrame: {missing_cols}\")\n",
    "    \n",
    "    # Apply KNN imputation\n",
    "    imputer = KNNImputer(n_neighbors=n_neighbors)\n",
    "    cotopaxi_df[variables] = imputer.fit_transform(cotopaxi_df[variables])\n",
    "    \n",
    "    return cotopaxi_df\n",
    "\n",
    "\n",
    "\n"
   ]
  },
  {
   "cell_type": "code",
   "execution_count": 8,
   "metadata": {},
   "outputs": [],
   "source": [
    "variables_to_impute = [\n",
    "    'nro_emigrantes',\n",
    "    'total_personas_x',\n",
    "    'nro_cuartos_r',\n",
    "    'total_hombres',\n",
    "    'total_mujeres',\n",
    "    'nro_dormitorios_r'\n",
    "]\n",
    "\n",
    "cotopaxi_df = imputar_knn_variables(cotopaxi_df, variables_to_impute, n_neighbors=5)"
   ]
  },
  {
   "cell_type": "markdown",
   "metadata": {},
   "source": [
    "Despues de la imputacion, vamos a sacar todos los valores NAN. Esta opcion se toma porque al haber imputado los valores ausentes en las variables numericas, podríamos usar el modo para las categóricas, pero no hay suficiente investigación para justificar esta decisión. Por lo tanto para el ejercicio las borraremos. "
   ]
  },
  {
   "cell_type": "code",
   "execution_count": 9,
   "metadata": {},
   "outputs": [],
   "source": [
    "cotopaxi_df_clean = cotopaxi_df.dropna().reset_index(drop=True)\n"
   ]
  },
  {
   "cell_type": "markdown",
   "metadata": {},
   "source": [
    "Usamos KNN imputer para las variables numericas que usaremos en el modelo y en la construccion de variables compuestas. "
   ]
  },
  {
   "cell_type": "markdown",
   "metadata": {},
   "source": [
    "Creamos y combinamos varialbes en indicadores\n",
    "Empezamos con hacinamiento. "
   ]
  },
  {
   "cell_type": "code",
   "execution_count": 10,
   "metadata": {},
   "outputs": [],
   "source": [
    "import numpy as np\n",
    "\n",
    "# Evita división por cero o nulos\n",
    "cotopaxi_df['personas_por_cuarto'] = cotopaxi_df['total_personas_x'] / cotopaxi_df['nro_cuartos_r']\n",
    "cotopaxi_df['personas_por_cuarto'] = cotopaxi_df['personas_por_cuarto'].replace([np.inf, -np.inf], np.nan)\n",
    "\n",
    "# Crear categoría de hacinamiento\n",
    "cotopaxi_df['hacinamiento'] = np.select(\n",
    "    [\n",
    "        cotopaxi_df['personas_por_cuarto'] <= 2,\n",
    "        (cotopaxi_df['personas_por_cuarto'] > 2) & (cotopaxi_df['personas_por_cuarto'] < 4),\n",
    "        cotopaxi_df['personas_por_cuarto'] >= 4\n",
    "    ],\n",
    "    ['Aceptable', 'Moderado', 'Severo'],\n",
    "    default='Desconocido'\n",
    ")\n"
   ]
  },
  {
   "cell_type": "code",
   "execution_count": 11,
   "metadata": {},
   "outputs": [
    {
     "name": "stdout",
     "output_type": "stream",
     "text": [
      "  hacinamiento  hacinamiento_score\n",
      "0    Aceptable                 0.0\n",
      "1    Aceptable                 0.0\n",
      "2    Aceptable                 0.0\n",
      "3    Aceptable                 0.0\n",
      "4    Aceptable                 0.0\n",
      "5    Aceptable                 0.0\n",
      "6    Aceptable                 0.0\n",
      "7    Aceptable                 0.0\n",
      "8    Aceptable                 0.0\n",
      "9    Aceptable                 0.0\n"
     ]
    }
   ],
   "source": [
    "hacinamiento_map = {'Aceptable': 0, 'Moderado': 1, 'Severo': 2, 'Desconocido': np.nan}\n",
    "cotopaxi_df['hacinamiento_score'] = cotopaxi_df['hacinamiento'].map(hacinamiento_map)\n",
    "print(cotopaxi_df[['hacinamiento', 'hacinamiento_score']].head(10))"
   ]
  },
  {
   "cell_type": "code",
   "execution_count": 12,
   "metadata": {},
   "outputs": [],
   "source": [
    "# Definir las columnas que indican vulnerabilidad\n",
    "cols_vulnerables = [\n",
    "    # Materiales precarios\n",
    "    'mat_techo_label_Palma, paja u hoja',\n",
    "    'mat_techo_label_Otro material',\n",
    "    'mat_paredes_label_Caña no revestida',\n",
    "    'mat_paredes_label_Adobe o tapia',\n",
    "    'mat_paredes_label_Otro material',\n",
    "    'mat_piso_label_Tierra',\n",
    "    'mat_piso_label_Caña sin tratar',\n",
    "    'mat_piso_label_Otro material',\n",
    "\n",
    "    # Estados \"Malos\"\n",
    "    'estado_techo_label_Malo',\n",
    "    'estado_paredes_label_Malo',\n",
    "    'estado_piso_label_Malo',\n",
    "\n",
    "    # Ocupación inestable\n",
    "    'ocup_viv_part_label_De temporada o vacacional',\n",
    "    'ocup_viv_part_label_Ocupada con personas ausentes',\n",
    "    'ocup_viv_colect_label_Sin residentes habituales'\n",
    "]\n",
    "\n",
    "# Asegurarnos de que las columnas existen\n",
    "cols_vulnerables = [col for col in cols_vulnerables if col in cotopaxi_df.columns]\n",
    "\n",
    "# Sumar como score\n",
    "cotopaxi_df['vulnerabilidad_vivienda'] = cotopaxi_df[cols_vulnerables].sum(axis=1)\n"
   ]
  },
  {
   "cell_type": "code",
   "execution_count": 13,
   "metadata": {},
   "outputs": [
    {
     "name": "stdout",
     "output_type": "stream",
     "text": [
      "   vulnerabilidad_vivienda nivel_vulnerabilidad_vivienda\n",
      "0                        0                          Baja\n",
      "1                        3                    Media-baja\n",
      "2                        0                          Baja\n",
      "3                        1                          Baja\n",
      "4                        0                          Baja\n",
      "5                        0                          Baja\n",
      "6                        0                          Baja\n",
      "7                        0                          Baja\n",
      "8                        1                          Baja\n",
      "9                        0                          Baja\n"
     ]
    }
   ],
   "source": [
    "cotopaxi_df['nivel_vulnerabilidad_vivienda'] = pd.cut(\n",
    "    cotopaxi_df['vulnerabilidad_vivienda'],\n",
    "    bins=[-1, 1, 3, 5, np.inf],\n",
    "    labels=['Baja', 'Media-baja', 'Media-alta', 'Alta']\n",
    ")\n",
    "print(cotopaxi_df[['vulnerabilidad_vivienda', 'nivel_vulnerabilidad_vivienda']].head(10))"
   ]
  },
  {
   "cell_type": "code",
   "execution_count": 14,
   "metadata": {},
   "outputs": [],
   "source": [
    "def remove_outliers_iqr(df, columns):\n",
    "    df_clean = df.copy()\n",
    "    for col in columns:\n",
    "        Q1 = df[col].quantile(0.25)\n",
    "        Q3 = df[col].quantile(0.75)\n",
    "        IQR = Q3 - Q1\n",
    "        lower_bound = Q1 - 1.5 * IQR\n",
    "        upper_bound = Q3 + 1.5 * IQR\n",
    "        df_clean = df_clean[(df_clean[col] >= lower_bound) & (df_clean[col] <= upper_bound)]\n",
    "    return df_clean\n",
    "\n",
    "cotopaxi_df_clean = remove_outliers_iqr(cotopaxi_df, ['vulnerabilidad_vivienda', 'personas_por_cuarto', 'hacinamiento_score'])\n"
   ]
  },
  {
   "cell_type": "code",
   "execution_count": 15,
   "metadata": {},
   "outputs": [
    {
     "name": "stdout",
     "output_type": "stream",
     "text": [
      "Antes de remover outliers: (1000, 223)\n",
      "Después de remover outliers: (857, 223)\n"
     ]
    }
   ],
   "source": [
    "print(\"Antes de remover outliers:\", cotopaxi_df.shape)\n",
    "print(\"Después de remover outliers:\", cotopaxi_df_clean.shape)\n"
   ]
  },
  {
   "cell_type": "code",
   "execution_count": 16,
   "metadata": {},
   "outputs": [
    {
     "data": {
      "image/png": "[encoded data removed]",
      "text/plain": [
       "<Figure size 1200x400 with 2 Axes>"
      ]
     },
     "metadata": {},
     "output_type": "display_data"
    },
    {
     "data": {
      "image/png": "[encoded data removed]",
      "text/plain": [
       "<Figure size 1200x400 with 2 Axes>"
      ]
     },
     "metadata": {},
     "output_type": "display_data"
    },
    {
     "data": {
      "image/png": "[encoded data removed]",
      "text/plain": [
       "<Figure size 1200x400 with 2 Axes>"
      ]
     },
     "metadata": {},
     "output_type": "display_data"
    }
   ],
   "source": [
    "import seaborn as sns\n",
    "import matplotlib.pyplot as plt\n",
    "\n",
    "variables = ['vulnerabilidad_vivienda', 'personas_por_cuarto', 'hacinamiento_score']\n",
    "\n",
    "for var in variables:\n",
    "    fig, axes = plt.subplots(1, 2, figsize=(12, 4))\n",
    "    \n",
    "    sns.boxplot(x=cotopaxi_df[var], ax=axes[0])\n",
    "    axes[0].set_title(f'{var} - Original')\n",
    "\n",
    "    sns.boxplot(x=cotopaxi_df_clean[var], ax=axes[1])\n",
    "    axes[1].set_title(f'{var} - Sin outliers')\n",
    "\n",
    "    plt.tight_layout()\n",
    "    plt.show()\n"
   ]
  },
  {
   "cell_type": "markdown",
   "metadata": {},
   "source": [
    "Esta transformación se hizo para: \n",
    "Para resumir vulnerabilidad en 4 niveles simples.\n",
    "\n",
    "Para visualización (gráficos de barras, mapas coropléticos).\n",
    "\n",
    "Para perfilar clusters usando métodos no supervisados."
   ]
  },
  {
   "cell_type": "code",
   "execution_count": 13,
   "metadata": {},
   "outputs": [],
   "source": [
    "from sklearn.preprocessing import StandardScaler\n",
    "\n",
    "# Selecciona las variables que representan vulnerabilidad\n",
    "variables_cluster = [\n",
    "    'vulnerabilidad_vivienda',\n",
    "    'personas_por_cuarto',\n",
    "    'hacinamiento_score'\n",
    "]\n",
    "\n",
    "# Escalar los datos\n",
    "scaler = StandardScaler()\n",
    "X_scaled = scaler.fit_transform(cotopaxi_df[variables_cluster])\n"
   ]
  },
  {
   "cell_type": "code",
   "execution_count": null,
   "metadata": {},
   "outputs": [
    {
     "name": "stderr",
     "output_type": "stream",
     "text": [
      "/Users/dicordova/opt/anaconda3/lib/python3.9/site-packages/sklearn/cluster/_kmeans.py:1412: FutureWarning: The default value of `n_init` will change from 10 to 'auto' in 1.4. Set the value of `n_init` explicitly to suppress the warning\n",
      "  super()._check_params_vs_input(X, default_n_init=10)\n",
      "/Users/dicordova/opt/anaconda3/lib/python3.9/site-packages/threadpoolctl.py:1214: RuntimeWarning: \n",
      "Found Intel OpenMP ('libiomp') and LLVM OpenMP ('libomp') loaded at\n",
      "the same time. Both libraries are known to be incompatible and this\n",
      "can cause random crashes or deadlocks on Linux when loaded in the\n",
      "same Python program.\n",
      "Using threadpoolctl may cause crashes or deadlocks. For more\n",
      "information and possible workarounds, please see\n",
      "    https://github.com/joblib/threadpoolctl/blob/master/multiple_openmp.md\n",
      "\n",
      "  warnings.warn(msg, RuntimeWarning)\n"
     ]
    }
   ],
   "source": [
    "from sklearn.cluster import KMeans\n",
    "\n",
    "# Inicializa KMeans con 4 clusters\n",
    "kmeans = KMeans(n_clusters=4, random_state=42)\n",
    "cotopaxi_df['cluster_kmeans'] = kmeans.fit_predict(X_scaled)\n"
   ]
  },
  {
   "cell_type": "code",
   "execution_count": null,
   "metadata": {},
   "outputs": [],
   "source": [
    "from sklearn.cluster import AgglomerativeClustering\n",
    "\n",
    "agglo = AgglomerativeClustering(n_clusters=4)\n",
    "cotopaxi_df['cluster_agglo'] = agglo.fit_predict(X_scaled)\n"
   ]
  },
  {
   "cell_type": "code",
   "execution_count": null,
   "metadata": {},
   "outputs": [],
   "source": []
  }
 ],
 "metadata": {
  "kernelspec": {
   "display_name": "base",
   "language": "python",
   "name": "python3"
  },
  "language_info": {
   "codemirror_mode": {
    "name": "ipython",
    "version": 3
   },
   "file_extension": ".py",
   "mimetype": "text/x-python",
   "name": "python",
   "nbconvert_exporter": "python",
   "pygments_lexer": "ipython3",
   "version": "3.9.21"
  }
 },
 "nbformat": 4,
 "nbformat_minor": 2
}
